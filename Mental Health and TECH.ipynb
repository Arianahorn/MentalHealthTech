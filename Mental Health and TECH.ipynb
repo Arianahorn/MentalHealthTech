{
 "cells": [
  {
   "cell_type": "markdown",
   "id": "176dfe57",
   "metadata": {},
   "source": [
    "## SQL Project \n",
    "\n",
    "#### Ariana Horn \n",
    "#### Topic: Mental Health in Tech "
   ]
  },
  {
   "cell_type": "markdown",
   "id": "ec3c6d08",
   "metadata": {},
   "source": [
    "This project captures my interest deeply, as it resides at the intersection of technology and well-being—a space where I, alongside many of my close friends, dedicate our professional lives. In the tech industry, where the pace is relentless and the landscape of competition vast and intricate, mere proficiency is eclipsed by the need for distinction. It's not just about being skilled; it's about cultivating an edge that sets one apart.\n",
    "\n",
    "Against this backdrop, the importance of mental health becomes ever more pronounced. I am committed to fostering greater awareness and support for mental health, with a vision to create a profound and lasting impact. My aim is to initiate a movement that not only highlights the significance of mental well-being in such high-pressure environments but also provides tangible support to those who find themselves struggling to navigate these challenges alone."
   ]
  },
  {
   "cell_type": "markdown",
   "id": "19456364",
   "metadata": {},
   "source": [
    "### Objective: "
   ]
  },
  {
   "cell_type": "markdown",
   "id": "7892b1c4",
   "metadata": {},
   "source": [
    "The purpose of this document is to shed light on the landscape of mental wellness within the tech sector over the span of 2014 to 2019, with the intent to propose strategies for a more robust and enduring well-being framework.\n",
    "\n",
    "The insights herein are derived from data collected through questionnaires administered by Open Source Mental Illness (OSMI) over the years 2014 to 2019. These questionnaires aimed to gauge the industry's attitudes toward mental health and to ascertain the frequency and impact of mental health issues among tech professionals."
   ]
  },
  {
   "cell_type": "code",
   "execution_count": 15,
   "id": "ee9a0fa1",
   "metadata": {},
   "outputs": [],
   "source": [
    "# Importing libraries\n",
    "import numpy as np\n",
    "import pandas as pd\n",
    "import sqlite3 as sql\n",
    "import matplotlib.pyplot as plt\n",
    "import plotly.express as px\n",
    "import plotly.graph_objs as go"
   ]
  },
  {
   "cell_type": "code",
   "execution_count": 16,
   "id": "fcdaf07e",
   "metadata": {},
   "outputs": [],
   "source": [
    "# Import data \n",
    "\n",
    "import sqlite3\n",
    "\n",
    "con = sqlite3.connect('mental_health.sqlite') "
   ]
  },
  {
   "cell_type": "markdown",
   "id": "170ae5e3",
   "metadata": {},
   "source": [
    "### Data Overview:\n",
    "\n",
    "Exploring Tables and their Schema"
   ]
  },
  {
   "cell_type": "code",
   "execution_count": 17,
   "id": "9a390adf",
   "metadata": {},
   "outputs": [
    {
     "name": "stdout",
     "output_type": "stream",
     "text": [
      "Tables in the database: [('Answer',), ('Question',), ('Survey',)]\n"
     ]
    }
   ],
   "source": [
    "# Create a cursor object\n",
    "cur = con.cursor()\n",
    "\n",
    "# Get the list of all tables in the database\n",
    "cur.execute(\"SELECT name FROM sqlite_master WHERE type='table';\")\n",
    "tables = cur.fetchall()\n",
    "\n",
    "print(\"Tables in the database:\", tables)"
   ]
  },
  {
   "cell_type": "code",
   "execution_count": 18,
   "id": "bf47cddf",
   "metadata": {},
   "outputs": [
    {
     "name": "stdout",
     "output_type": "stream",
     "text": [
      "Table: Answer\n",
      "(0, 'AnswerText', 'VARCHAR(10000)', 0, None, 0)\n",
      "(1, 'SurveyID', 'INTEGER', 0, None, 0)\n",
      "(2, 'UserID', 'INTEGER', 0, None, 0)\n",
      "(3, 'QuestionID', 'INTEGER', 0, None, 0)\n",
      "Table: Question\n",
      "(0, 'questiontext', 'VARCHAR(1000)', 0, None, 0)\n",
      "(1, 'questionid', 'INTEGER', 0, None, 0)\n",
      "Table: Survey\n",
      "(0, 'SurveyID', 'INTEGER', 1, None, 1)\n",
      "(1, 'Description', 'VARCHAR(255)', 0, None, 0)\n"
     ]
    }
   ],
   "source": [
    "# Print the schema of each table\n",
    "for table_name in tables:\n",
    "    table_name = table_name[0]  # get the name string\n",
    "    print(f\"Table: {table_name}\")\n",
    "    cur.execute(f'PRAGMA table_info({table_name});')\n",
    "    info = cur.fetchall()\n",
    "    for column_info in info:\n",
    "        print(column_info)"
   ]
  },
  {
   "cell_type": "markdown",
   "id": "9c22c2b9",
   "metadata": {},
   "source": [
    "We have three tabels \n",
    "- Answer, 4 columns\n",
    "- Question, 2 colums \n",
    "- Survey, 2 colums "
   ]
  },
  {
   "cell_type": "markdown",
   "id": "38e1cf02",
   "metadata": {},
   "source": [
    "The SQL database contains three tables: Answer, Question, and Survey. The Answer table stores answers with a link to the survey and question, as well as the user ID. The Question table holds the question text and ID, while the Survey table records each survey's ID and description."
   ]
  },
  {
   "cell_type": "markdown",
   "id": "7ddafc79",
   "metadata": {},
   "source": [
    "#### Next we are using Pandas' read_sql function to execute SQL queries on your SQLite database and load the results into Pandas DataFrames"
   ]
  },
  {
   "cell_type": "code",
   "execution_count": 23,
   "id": "8c18d382",
   "metadata": {},
   "outputs": [],
   "source": [
    "answer=pd.read_sql('SELECT * FROM Answer',con)\n",
    "survey=pd.read_sql('SELECT * FROM Survey',con)\n",
    "q=pd.read_sql('SELECT * FROM question',con)"
   ]
  },
  {
   "cell_type": "code",
   "execution_count": 67,
   "id": "123c2f78",
   "metadata": {},
   "outputs": [
    {
     "name": "stdout",
     "output_type": "stream",
     "text": [
      "  AnswerText  SurveyID  UserID  QuestionID\n",
      "0         37      2014       1           1\n",
      "1         44      2014       2           1\n",
      "2         32      2014       3           1\n",
      "3         31      2014       4           1\n",
      "4         31      2014       5           1\n",
      "   SurveyID                    Description\n",
      "0      2014  mental health survey for 2014\n",
      "1      2016  mental health survey for 2016\n",
      "2      2017  mental health survey for 2017\n",
      "3      2018  mental health survey for 2018\n",
      "4      2019  mental health survey for 2019\n",
      "                                                 questiontext\n",
      "questionid                                                   \n",
      "1                                           What is your age?\n",
      "2                                        What is your gender?\n",
      "3                                What country do you live in?\n",
      "4           If you live in the United States, which state ...\n",
      "5                                      Are you self-employed?\n"
     ]
    }
   ],
   "source": [
    "print(answer.head())\n",
    "print(survey.head())\n",
    "print(q.head())"
   ]
  },
  {
   "cell_type": "code",
   "execution_count": 25,
   "id": "3eb76634",
   "metadata": {},
   "outputs": [
    {
     "name": "stdout",
     "output_type": "stream",
     "text": [
      "<class 'pandas.core.frame.DataFrame'>\n",
      "RangeIndex: 236898 entries, 0 to 236897\n",
      "Data columns (total 4 columns):\n",
      " #   Column      Non-Null Count   Dtype \n",
      "---  ------      --------------   ----- \n",
      " 0   AnswerText  236898 non-null  object\n",
      " 1   SurveyID    236898 non-null  int64 \n",
      " 2   UserID      236898 non-null  int64 \n",
      " 3   QuestionID  236898 non-null  int64 \n",
      "dtypes: int64(3), object(1)\n",
      "memory usage: 7.2+ MB\n",
      "None\n",
      "-----------------------------------------------\n",
      "AnswerText    object\n",
      "SurveyID       int64\n",
      "UserID         int64\n",
      "QuestionID     int64\n",
      "dtype: object\n"
     ]
    }
   ],
   "source": [
    "print(answer.info())\n",
    "print('-----------------------------------------------')\n",
    "print(answer.dtypes)"
   ]
  },
  {
   "cell_type": "code",
   "execution_count": 26,
   "id": "f2a3e63f",
   "metadata": {},
   "outputs": [
    {
     "name": "stdout",
     "output_type": "stream",
     "text": [
      "<class 'pandas.core.frame.DataFrame'>\n",
      "RangeIndex: 5 entries, 0 to 4\n",
      "Data columns (total 2 columns):\n",
      " #   Column       Non-Null Count  Dtype \n",
      "---  ------       --------------  ----- \n",
      " 0   SurveyID     5 non-null      int64 \n",
      " 1   Description  5 non-null      object\n",
      "dtypes: int64(1), object(1)\n",
      "memory usage: 208.0+ bytes\n",
      "None\n",
      "-----------------------------------------------\n",
      "SurveyID        int64\n",
      "Description    object\n",
      "dtype: object\n"
     ]
    }
   ],
   "source": [
    "print(survey.info())\n",
    "print('-----------------------------------------------')\n",
    "print(survey.dtypes)"
   ]
  },
  {
   "cell_type": "code",
   "execution_count": 27,
   "id": "381f182a",
   "metadata": {},
   "outputs": [
    {
     "name": "stdout",
     "output_type": "stream",
     "text": [
      "<class 'pandas.core.frame.DataFrame'>\n",
      "RangeIndex: 105 entries, 0 to 104\n",
      "Data columns (total 2 columns):\n",
      " #   Column        Non-Null Count  Dtype \n",
      "---  ------        --------------  ----- \n",
      " 0   questiontext  105 non-null    object\n",
      " 1   questionid    105 non-null    int64 \n",
      "dtypes: int64(1), object(1)\n",
      "memory usage: 1.8+ KB\n",
      "None\n",
      "-----------------------------------------------\n",
      "questiontext    object\n",
      "questionid       int64\n",
      "dtype: object\n"
     ]
    }
   ],
   "source": [
    "print(q.info())\n",
    "print('-----------------------------------------------')\n",
    "print(q.dtypes)"
   ]
  },
  {
   "cell_type": "markdown",
   "id": "50f44e71",
   "metadata": {},
   "source": [
    "## Tabel: Answer"
   ]
  },
  {
   "cell_type": "markdown",
   "id": "758d82c6",
   "metadata": {},
   "source": [
    "- This part will give closer insights to the tabel Answer for further analysis. "
   ]
  },
  {
   "cell_type": "code",
   "execution_count": 28,
   "id": "ae3b927e",
   "metadata": {},
   "outputs": [
    {
     "data": {
      "text/plain": [
       "4215"
      ]
     },
     "execution_count": 28,
     "metadata": {},
     "output_type": "execute_result"
    }
   ],
   "source": [
    "#Count the number of unique entries in the 'AnswerText' column of a DataFrame named 'answer'\n",
    "\n",
    "len(answer['AnswerText'].unique())"
   ]
  },
  {
   "cell_type": "code",
   "execution_count": 29,
   "id": "c431e753",
   "metadata": {},
   "outputs": [
    {
     "data": {
      "text/plain": [
       "AnswerText    0\n",
       "SurveyID      0\n",
       "UserID        0\n",
       "QuestionID    0\n",
       "dtype: int64"
      ]
     },
     "execution_count": 29,
     "metadata": {},
     "output_type": "execute_result"
    }
   ],
   "source": [
    "#Checking on null values in answer \n",
    "\n",
    "answer.isnull().sum()"
   ]
  },
  {
   "cell_type": "markdown",
   "id": "7307d0b9",
   "metadata": {},
   "source": [
    "We will also bring the column QuestionText into this analysis because it belongs together with AnswerText. "
   ]
  },
  {
   "cell_type": "code",
   "execution_count": 31,
   "id": "4d1d8f63",
   "metadata": {},
   "outputs": [],
   "source": [
    "answer_grp=answer.groupby('QuestionID')"
   ]
  },
  {
   "cell_type": "code",
   "execution_count": 33,
   "id": "599247ad",
   "metadata": {},
   "outputs": [
    {
     "data": {
      "text/html": [
       "<div>\n",
       "<style scoped>\n",
       "    .dataframe tbody tr th:only-of-type {\n",
       "        vertical-align: middle;\n",
       "    }\n",
       "\n",
       "    .dataframe tbody tr th {\n",
       "        vertical-align: top;\n",
       "    }\n",
       "\n",
       "    .dataframe thead th {\n",
       "        text-align: right;\n",
       "    }\n",
       "</style>\n",
       "<table border=\"1\" class=\"dataframe\">\n",
       "  <thead>\n",
       "    <tr style=\"text-align: right;\">\n",
       "      <th></th>\n",
       "      <th>AnswerText</th>\n",
       "      <th>SurveyID</th>\n",
       "      <th>UserID</th>\n",
       "      <th>QuestionID</th>\n",
       "    </tr>\n",
       "  </thead>\n",
       "  <tbody>\n",
       "    <tr>\n",
       "      <th>0</th>\n",
       "      <td>37</td>\n",
       "      <td>2014</td>\n",
       "      <td>1</td>\n",
       "      <td>1</td>\n",
       "    </tr>\n",
       "    <tr>\n",
       "      <th>1</th>\n",
       "      <td>44</td>\n",
       "      <td>2014</td>\n",
       "      <td>2</td>\n",
       "      <td>1</td>\n",
       "    </tr>\n",
       "    <tr>\n",
       "      <th>2</th>\n",
       "      <td>32</td>\n",
       "      <td>2014</td>\n",
       "      <td>3</td>\n",
       "      <td>1</td>\n",
       "    </tr>\n",
       "    <tr>\n",
       "      <th>3</th>\n",
       "      <td>31</td>\n",
       "      <td>2014</td>\n",
       "      <td>4</td>\n",
       "      <td>1</td>\n",
       "    </tr>\n",
       "    <tr>\n",
       "      <th>4</th>\n",
       "      <td>31</td>\n",
       "      <td>2014</td>\n",
       "      <td>5</td>\n",
       "      <td>1</td>\n",
       "    </tr>\n",
       "    <tr>\n",
       "      <th>5</th>\n",
       "      <td>33</td>\n",
       "      <td>2014</td>\n",
       "      <td>6</td>\n",
       "      <td>1</td>\n",
       "    </tr>\n",
       "    <tr>\n",
       "      <th>6</th>\n",
       "      <td>35</td>\n",
       "      <td>2014</td>\n",
       "      <td>7</td>\n",
       "      <td>1</td>\n",
       "    </tr>\n",
       "    <tr>\n",
       "      <th>7</th>\n",
       "      <td>39</td>\n",
       "      <td>2014</td>\n",
       "      <td>8</td>\n",
       "      <td>1</td>\n",
       "    </tr>\n",
       "    <tr>\n",
       "      <th>8</th>\n",
       "      <td>42</td>\n",
       "      <td>2014</td>\n",
       "      <td>9</td>\n",
       "      <td>1</td>\n",
       "    </tr>\n",
       "    <tr>\n",
       "      <th>9</th>\n",
       "      <td>23</td>\n",
       "      <td>2014</td>\n",
       "      <td>10</td>\n",
       "      <td>1</td>\n",
       "    </tr>\n",
       "  </tbody>\n",
       "</table>\n",
       "</div>"
      ],
      "text/plain": [
       "  AnswerText  SurveyID  UserID  QuestionID\n",
       "0         37      2014       1           1\n",
       "1         44      2014       2           1\n",
       "2         32      2014       3           1\n",
       "3         31      2014       4           1\n",
       "4         31      2014       5           1\n",
       "5         33      2014       6           1\n",
       "6         35      2014       7           1\n",
       "7         39      2014       8           1\n",
       "8         42      2014       9           1\n",
       "9         23      2014      10           1"
      ]
     },
     "execution_count": 33,
     "metadata": {},
     "output_type": "execute_result"
    }
   ],
   "source": [
    "grp_q1=answer_grp.get_group(1)\n",
    "grp_q1.head(10)"
   ]
  },
  {
   "cell_type": "code",
   "execution_count": 66,
   "id": "4d0fe41d",
   "metadata": {},
   "outputs": [
    {
     "data": {
      "text/html": [
       "<div>\n",
       "<style scoped>\n",
       "    .dataframe tbody tr th:only-of-type {\n",
       "        vertical-align: middle;\n",
       "    }\n",
       "\n",
       "    .dataframe tbody tr th {\n",
       "        vertical-align: top;\n",
       "    }\n",
       "\n",
       "    .dataframe thead th {\n",
       "        text-align: right;\n",
       "    }\n",
       "</style>\n",
       "<table border=\"1\" class=\"dataframe\">\n",
       "  <thead>\n",
       "    <tr style=\"text-align: right;\">\n",
       "      <th></th>\n",
       "      <th>AnswerText</th>\n",
       "      <th>SurveyID</th>\n",
       "      <th>UserID</th>\n",
       "      <th>QuestionID</th>\n",
       "    </tr>\n",
       "  </thead>\n",
       "  <tbody>\n",
       "    <tr>\n",
       "      <th>1260</th>\n",
       "      <td>Female</td>\n",
       "      <td>2014</td>\n",
       "      <td>1</td>\n",
       "      <td>2</td>\n",
       "    </tr>\n",
       "    <tr>\n",
       "      <th>1261</th>\n",
       "      <td>Male</td>\n",
       "      <td>2014</td>\n",
       "      <td>2</td>\n",
       "      <td>2</td>\n",
       "    </tr>\n",
       "    <tr>\n",
       "      <th>1262</th>\n",
       "      <td>Male</td>\n",
       "      <td>2014</td>\n",
       "      <td>3</td>\n",
       "      <td>2</td>\n",
       "    </tr>\n",
       "    <tr>\n",
       "      <th>1263</th>\n",
       "      <td>Male</td>\n",
       "      <td>2014</td>\n",
       "      <td>4</td>\n",
       "      <td>2</td>\n",
       "    </tr>\n",
       "    <tr>\n",
       "      <th>1264</th>\n",
       "      <td>Male</td>\n",
       "      <td>2014</td>\n",
       "      <td>5</td>\n",
       "      <td>2</td>\n",
       "    </tr>\n",
       "    <tr>\n",
       "      <th>1265</th>\n",
       "      <td>Male</td>\n",
       "      <td>2014</td>\n",
       "      <td>6</td>\n",
       "      <td>2</td>\n",
       "    </tr>\n",
       "    <tr>\n",
       "      <th>1266</th>\n",
       "      <td>Female</td>\n",
       "      <td>2014</td>\n",
       "      <td>7</td>\n",
       "      <td>2</td>\n",
       "    </tr>\n",
       "    <tr>\n",
       "      <th>1267</th>\n",
       "      <td>Male</td>\n",
       "      <td>2014</td>\n",
       "      <td>8</td>\n",
       "      <td>2</td>\n",
       "    </tr>\n",
       "    <tr>\n",
       "      <th>1268</th>\n",
       "      <td>Female</td>\n",
       "      <td>2014</td>\n",
       "      <td>9</td>\n",
       "      <td>2</td>\n",
       "    </tr>\n",
       "    <tr>\n",
       "      <th>1269</th>\n",
       "      <td>Male</td>\n",
       "      <td>2014</td>\n",
       "      <td>10</td>\n",
       "      <td>2</td>\n",
       "    </tr>\n",
       "  </tbody>\n",
       "</table>\n",
       "</div>"
      ],
      "text/plain": [
       "     AnswerText  SurveyID  UserID  QuestionID\n",
       "1260     Female      2014       1           2\n",
       "1261       Male      2014       2           2\n",
       "1262       Male      2014       3           2\n",
       "1263       Male      2014       4           2\n",
       "1264       Male      2014       5           2\n",
       "1265       Male      2014       6           2\n",
       "1266     Female      2014       7           2\n",
       "1267       Male      2014       8           2\n",
       "1268     Female      2014       9           2\n",
       "1269       Male      2014      10           2"
      ]
     },
     "execution_count": 66,
     "metadata": {},
     "output_type": "execute_result"
    }
   ],
   "source": [
    "grp_q2=answer_grp.get_group(2)\n",
    "grp_q2.head(10)"
   ]
  },
  {
   "cell_type": "code",
   "execution_count": 76,
   "id": "c9ca423c",
   "metadata": {
    "scrolled": true
   },
   "outputs": [
    {
     "data": {
      "text/html": [
       "<div>\n",
       "<style scoped>\n",
       "    .dataframe tbody tr th:only-of-type {\n",
       "        vertical-align: middle;\n",
       "    }\n",
       "\n",
       "    .dataframe tbody tr th {\n",
       "        vertical-align: top;\n",
       "    }\n",
       "\n",
       "    .dataframe thead th {\n",
       "        text-align: right;\n",
       "    }\n",
       "</style>\n",
       "<table border=\"1\" class=\"dataframe\">\n",
       "  <thead>\n",
       "    <tr style=\"text-align: right;\">\n",
       "      <th></th>\n",
       "      <th>AnswerText</th>\n",
       "      <th>SurveyID</th>\n",
       "      <th>UserID</th>\n",
       "      <th>QuestionID</th>\n",
       "    </tr>\n",
       "  </thead>\n",
       "  <tbody>\n",
       "    <tr>\n",
       "      <th>114431</th>\n",
       "      <td>Sometimes</td>\n",
       "      <td>2016</td>\n",
       "      <td>2684</td>\n",
       "      <td>118</td>\n",
       "    </tr>\n",
       "    <tr>\n",
       "      <th>114432</th>\n",
       "      <td>Sometimes</td>\n",
       "      <td>2016</td>\n",
       "      <td>2685</td>\n",
       "      <td>118</td>\n",
       "    </tr>\n",
       "    <tr>\n",
       "      <th>114433</th>\n",
       "      <td>Sometimes</td>\n",
       "      <td>2016</td>\n",
       "      <td>2686</td>\n",
       "      <td>118</td>\n",
       "    </tr>\n",
       "    <tr>\n",
       "      <th>114434</th>\n",
       "      <td>Sometimes</td>\n",
       "      <td>2016</td>\n",
       "      <td>2687</td>\n",
       "      <td>118</td>\n",
       "    </tr>\n",
       "    <tr>\n",
       "      <th>114435</th>\n",
       "      <td>Always</td>\n",
       "      <td>2016</td>\n",
       "      <td>2688</td>\n",
       "      <td>118</td>\n",
       "    </tr>\n",
       "    <tr>\n",
       "      <th>114436</th>\n",
       "      <td>Sometimes</td>\n",
       "      <td>2016</td>\n",
       "      <td>2689</td>\n",
       "      <td>118</td>\n",
       "    </tr>\n",
       "    <tr>\n",
       "      <th>114437</th>\n",
       "      <td>Sometimes</td>\n",
       "      <td>2016</td>\n",
       "      <td>2690</td>\n",
       "      <td>118</td>\n",
       "    </tr>\n",
       "    <tr>\n",
       "      <th>114438</th>\n",
       "      <td>Sometimes</td>\n",
       "      <td>2016</td>\n",
       "      <td>2691</td>\n",
       "      <td>118</td>\n",
       "    </tr>\n",
       "    <tr>\n",
       "      <th>114439</th>\n",
       "      <td>Sometimes</td>\n",
       "      <td>2016</td>\n",
       "      <td>2692</td>\n",
       "      <td>118</td>\n",
       "    </tr>\n",
       "    <tr>\n",
       "      <th>114440</th>\n",
       "      <td>Sometimes</td>\n",
       "      <td>2016</td>\n",
       "      <td>2693</td>\n",
       "      <td>118</td>\n",
       "    </tr>\n",
       "  </tbody>\n",
       "</table>\n",
       "</div>"
      ],
      "text/plain": [
       "       AnswerText  SurveyID  UserID  QuestionID\n",
       "114431  Sometimes      2016    2684         118\n",
       "114432  Sometimes      2016    2685         118\n",
       "114433  Sometimes      2016    2686         118\n",
       "114434  Sometimes      2016    2687         118\n",
       "114435     Always      2016    2688         118\n",
       "114436  Sometimes      2016    2689         118\n",
       "114437  Sometimes      2016    2690         118\n",
       "114438  Sometimes      2016    2691         118\n",
       "114439  Sometimes      2016    2692         118\n",
       "114440  Sometimes      2016    2693         118"
      ]
     },
     "execution_count": 76,
     "metadata": {},
     "output_type": "execute_result"
    }
   ],
   "source": [
    "grp_q118=answer_grp.get_group(118)\n",
    "grp_q118.head(10)\n",
    "grp_q118.tail(10)"
   ]
  },
  {
   "cell_type": "code",
   "execution_count": 77,
   "id": "708c3264",
   "metadata": {},
   "outputs": [
    {
     "name": "stdout",
     "output_type": "stream",
     "text": [
      "   SurveyID\n",
      "0      2016\n"
     ]
    }
   ],
   "source": [
    "# SQL query to find all unique SurveyID values associated with QuestionID 118\n",
    "query = \"\"\"\n",
    "SELECT DISTINCT SurveyID\n",
    "FROM Answer\n",
    "WHERE QuestionID = 118;\n",
    "\"\"\"\n",
    "\n",
    "# Use pandas to execute the query and fetch the results\n",
    "unique_survey_ids_for_q118 = pd.read_sql(query, con)\n",
    "\n",
    "# Display the results\n",
    "print(unique_survey_ids_for_q118)"
   ]
  },
  {
   "cell_type": "code",
   "execution_count": 73,
   "id": "d36a1bc3",
   "metadata": {},
   "outputs": [
    {
     "name": "stdout",
     "output_type": "stream",
     "text": [
      "['Sometimes' 'Never' 'Always']\n"
     ]
    }
   ],
   "source": [
    "unique_answers_q118 = df[df['QuestionID'] == 118]['AnswerText'].unique()\n",
    "print(unique_answers_q118)"
   ]
  },
  {
   "cell_type": "code",
   "execution_count": 75,
   "id": "709aaaba",
   "metadata": {},
   "outputs": [
    {
     "name": "stdout",
     "output_type": "stream",
     "text": [
      "  AnswerText  Count\n",
      "0  Sometimes    757\n",
      "1     Always    343\n",
      "2      Never    333\n"
     ]
    }
   ],
   "source": [
    "# Perform a SQL query to count the unique AnswerText entries for QuestionID 118\n",
    "query = \"\"\"\n",
    "SELECT AnswerText, COUNT(*) as Count\n",
    "FROM Answer\n",
    "WHERE QuestionID = 118\n",
    "GROUP BY AnswerText\n",
    "ORDER BY Count DESC;\n",
    "\"\"\"\n",
    "\n",
    "# Use the pandas read_sql function to execute the query and read the results into a DataFrame\n",
    "unique_value_counts_df = pd.read_sql(query, con)\n",
    "\n",
    "# Display the results\n",
    "print(unique_value_counts_df)"
   ]
  },
  {
   "cell_type": "code",
   "execution_count": 78,
   "id": "6cecb195",
   "metadata": {},
   "outputs": [
    {
     "name": "stdout",
     "output_type": "stream",
     "text": [
      "   SurveyID\n",
      "0      2016\n",
      "1      2017\n",
      "2      2018\n",
      "3      2019\n"
     ]
    }
   ],
   "source": [
    "# SQL query to find all unique SurveyID values associated with QuestionID 32\n",
    "query = \"\"\"\n",
    "SELECT DISTINCT SurveyID\n",
    "FROM Answer\n",
    "WHERE QuestionID = 33;\n",
    "\"\"\"\n",
    "\n",
    "# Use pandas to execute the query and fetch the results\n",
    "unique_survey_ids_for_q32 = pd.read_sql(query, con)\n",
    "\n",
    "# Display the results\n",
    "print(unique_survey_ids_for_q32)"
   ]
  },
  {
   "cell_type": "code",
   "execution_count": 80,
   "id": "416e8f9c",
   "metadata": {},
   "outputs": [
    {
     "name": "stdout",
     "output_type": "stream",
     "text": [
      "   PeopleWhoWorkRemote\n",
      "0                  169\n"
     ]
    }
   ],
   "source": [
    "query = \"\"\"\n",
    "SELECT\n",
    "  COUNT(DISTINCT a1.UserID) as PeopleWhoWorkRemote\n",
    "FROM\n",
    "  Answer as a1\n",
    "JOIN\n",
    "  Answer as a2 ON a1.UserID = a2.UserID\n",
    "WHERE\n",
    "  a1.QuestionID = 118 AND a1.AnswerText = 'Always'\n",
    "  AND a2.QuestionID = 32 AND a2.AnswerText = 'Yes';\n",
    "\"\"\"\n",
    "\n",
    "# Use pandas to execute the query and fetch the results into a DataFrame\n",
    "people_count_df = pd.read_sql(query, con)\n",
    "\n",
    "# Display the resulting DataFrame\n",
    "print(people_count_df)"
   ]
  },
  {
   "cell_type": "code",
   "execution_count": 81,
   "id": "1dd072c0",
   "metadata": {
    "scrolled": true
   },
   "outputs": [
    {
     "name": "stdout",
     "output_type": "stream",
     "text": [
      "   PeopleWhoWorkRemote\n",
      "0                  164\n"
     ]
    }
   ],
   "source": [
    "query = \"\"\"\n",
    "SELECT\n",
    "  COUNT(DISTINCT a1.UserID) as PeopleWhoWorkRemote\n",
    "FROM\n",
    "  Answer as a1\n",
    "JOIN\n",
    "  Answer as a2 ON a1.UserID = a2.UserID\n",
    "WHERE\n",
    "  a1.QuestionID = 118 AND a1.AnswerText = 'Never'\n",
    "  AND a2.QuestionID = 32 AND a2.AnswerText = 'Yes';\n",
    "\"\"\"\n",
    "\n",
    "# Use pandas to execute the query and fetch the results into a DataFrame\n",
    "people_count_df = pd.read_sql(query, con)\n",
    "\n",
    "# Display the resulting DataFrame\n",
    "print(people_count_df)"
   ]
  },
  {
   "cell_type": "code",
   "execution_count": 86,
   "id": "5f755527",
   "metadata": {},
   "outputs": [
    {
     "name": "stdout",
     "output_type": "stream",
     "text": [
      "   PeopleWhoWorkHybrid\n",
      "0                  403\n"
     ]
    }
   ],
   "source": [
    "query = \"\"\"\n",
    "SELECT\n",
    "  COUNT(DISTINCT a1.UserID) as PeopleWhoWorkHybrid\n",
    "FROM\n",
    "  Answer as a1\n",
    "JOIN\n",
    "  Answer as a2 ON a1.UserID = a2.UserID\n",
    "WHERE\n",
    "  a1.QuestionID = 118 AND a1.AnswerText = 'Sometimes'\n",
    "  AND a2.QuestionID = 32 AND a2.AnswerText = 'Yes';\n",
    "\"\"\"\n",
    "\n",
    "# Use pandas to execute the query and fetch the results into a DataFrame\n",
    "people_count_df = pd.read_sql(query, con)\n",
    "\n",
    "# Display the resulting DataFrame\n",
    "print(people_count_df)"
   ]
  },
  {
   "cell_type": "markdown",
   "id": "51109f5f",
   "metadata": {},
   "source": [
    "Answer:\n",
    "\n",
    "The data reveals that participants working entirely remotely or on-site responded at comparable rates. Interestingly, the response rate for participants with a hybrid work arrangement was notably higher. In light of the COVID-19 pandemic, which occurred after the 2016 survey, it would be fascinating to examine the effects of these work arrangements on individuals in 2023. The shift in work culture prompted by the pandemic makes this an especially pertinent area for future research."
   ]
  },
  {
   "cell_type": "markdown",
   "id": "d3478e73",
   "metadata": {},
   "source": [
    "## Survey Questions: "
   ]
  },
  {
   "cell_type": "code",
   "execution_count": 39,
   "id": "51e700b3",
   "metadata": {},
   "outputs": [
    {
     "data": {
      "text/plain": [
       "Index(['questiontext'], dtype='object')"
      ]
     },
     "execution_count": 39,
     "metadata": {},
     "output_type": "execute_result"
    }
   ],
   "source": [
    "q.columns"
   ]
  },
  {
   "cell_type": "code",
   "execution_count": 40,
   "id": "1d952c10",
   "metadata": {
    "scrolled": false
   },
   "outputs": [
    {
     "name": "stdout",
     "output_type": "stream",
     "text": [
      "1 What is your age?\n",
      "2 What is your gender?\n",
      "3 What country do you live in?\n",
      "4 If you live in the United States, which state or territory do you live in?\n",
      "5 Are you self-employed?\n",
      "6 Do you have a family history of mental illness?\n",
      "7 Have you ever sought treatment for a mental health disorder from a mental health professional?\n",
      "8 How many employees does your company or organization have?\n",
      "9 Is your employer primarily a tech company/organization?\n",
      "10 Does your employer provide mental health benefits as part of healthcare coverage?\n",
      "11 Is your anonymity protected if you choose to take advantage of mental health or substance abuse treatment resources provided by your employer?\n",
      "12 Would you bring up a mental health issue with a potential employer in an interview?\n",
      "13 Is your primary role within your company related to tech/IT?\n",
      "14 Do you know the options for mental health care available under your employer-provided health coverage?\n",
      "15 Has your employer ever formally discussed mental health (for example, as part of a wellness campaign or other official communication)?\n",
      "16 Does your employer offer resources to learn more about mental health disorders and options for seeking help?\n",
      "17 If a mental health issue prompted you to request a medical leave from work, how easy or difficult would it be to ask for that leave?\n",
      "18 Would you feel comfortable discussing a mental health issue with your coworkers?\n",
      "19 Would you feel comfortable discussing a mental health issue with your direct supervisor(s)?\n",
      "20 Do you have medical coverage (private insurance or state-provided) that includes treatment of mental health disorders?\n",
      "21 Do you know local or online resources to seek help for a mental health issue?\n",
      "22 Do you have previous employers?\n",
      "23 Have your previous employers provided mental health benefits?\n",
      "24 Were you aware of the options for mental health care provided by your previous employers?\n",
      "25 Did your previous employers ever formally discuss mental health (as part of a wellness campaign or other official communication)?\n",
      "26 Did your previous employers provide resources to learn more about mental health disorders and how to seek help?\n",
      "27 Was your anonymity protected if you chose to take advantage of mental health or substance abuse treatment resources with previous employers?\n",
      "28 Would you have been willing to discuss your mental health with your direct supervisor(s)?\n",
      "29 Would you be willing to bring up a physical health issue with a potential employer in an interview?\n",
      "30 How willing would you be to share with friends and family that you have a mental illness?\n",
      "31 Have your observations of how another individual who discussed a mental health disorder made you less likely to reveal a mental health issue yourself in your current workplace?\n",
      "32 Have you had a mental health disorder in the past?\n",
      "33 Do you currently have a mental health disorder?\n",
      "34 Have you ever been diagnosed with a mental health disorder?\n",
      "48 If you have a mental health disorder, how often do you feel that it interferes with your work when being treated effectively?\n",
      "49 If you have a mental health disorder, how often do you feel that it interferes with your work when not being treated effectively (i.e., when you are experiencing symptoms)?\n",
      "50 What country do you work in?\n",
      "51 What US state or territory do you work in?\n",
      "52 If you have been diagnosed or treated for a mental health disorder, do you ever reveal this to clients or business contacts?\n",
      "53 If you have been diagnosed or treated for a mental health disorder, do you ever reveal this to coworkers or employees?\n",
      "54 Do you believe your productivity is ever affected by a mental health issue?\n",
      "55 If yes, what percentage of your work time (time performing primary or secondary job functions) is affected by a mental health issue?\n",
      "56 Have you observed or experienced an unsupportive or badly handled response to a mental health issue in your current or previous workplace?\n",
      "57 Would you feel more comfortable talking to your coworkers about your physical health or your mental health?\n",
      "58 Have you ever discussed your mental health with your employer?\n",
      "59 Describe the conversation you had with your employer about your mental health, including their reactions and what actions were taken to address your mental health issue/questions.\n",
      "60 Have you ever discussed your mental health with coworkers?\n",
      "61 Describe the conversation with coworkers you had about your mental health including their reactions.\n",
      "62 Have you ever had a coworker discuss their or another coworker's mental health with you?\n",
      "63 Describe the conversation your coworker had with you about their mental health (please do not use names).\n",
      "64 Overall, how much importance does your employer place on physical health?\n",
      "65 Overall, how much importance does your employer place on mental health?\n",
      "66 If you have revealed a mental health disorder to a client or business contact, how has this affected you or the relationship?\n",
      "67 If you have revealed a mental health disorder to a coworker or employee, how has this impacted you or the relationship?\n",
      "68 Was your employer primarily a tech company/organization?\n",
      "69 Would you have felt more comfortable talking to your previous employer about your physical health or your mental health?\n",
      "70 Did you ever discuss your mental health with your previous employer?\n",
      "71 Describe the conversation you had with your previous employer about your mental health, including their reactions and actions taken to address your mental health issue/questions.\n",
      "72 Did you ever discuss your mental health with a previous coworker(s)?\n",
      "73 Describe the conversation you had with your previous coworkers about your mental health including their reactions.\n",
      "74 Did you ever have a previous coworker discuss their or another coworker's mental health with you?\n",
      "75 Describe the conversation your coworker had with you about their mental health (please do not use names)..1\n",
      "76 Overall, how much importance did your previous employer place on physical health?\n",
      "77 Overall, how much importance did your previous employer place on mental health?\n",
      "78 Are you openly identified at work as a person with a mental health issue?\n",
      "79 Has being identified as a person with a mental health issue affected your career?\n",
      "80 How has it affected your career?\n",
      "81 If they knew you suffered from a mental health disorder, how do you think that your team members/co-workers would react?\n",
      "82 Describe the circumstances of the badly handled or unsupportive response.\n",
      "83 Have you observed or experienced supportive or well handled response to a mental health issue in your current or previous workplace?\n",
      "84 Describe the circumstances of the supportive or well handled response.\n",
      "85 Overall, how well do you think the tech industry supports employees with mental health issues?\n",
      "86 Briefly describe what you think the industry as a whole and/or employers could do to improve mental health support for employees.\n",
      "87 If there is anything else you would like to tell us that has not been covered by the survey questions, please use this space to do so.\n",
      "88 Would you be willing to talk to one of us more extensively about your experiences with mental health issues in the tech industry? (Note that all interview responses would be used _anonymously_ and only with your permission.)\n",
      "89 What is your race?\n",
      "90 Do you think that discussing a physical health issue with your employer would have negative consequences?\n",
      "91 Do you feel that your employer takes mental health as seriously as physical health?\n",
      "92 If you have a mental health condition, do you feel that it interferes with your work?\n",
      "93 Do you work remotely (outside of an office) at least 50% of the time?\n",
      "94 Do you know the options for mental health care your employer provides?\n",
      "95 Has your employer ever discussed mental health as part of an employee wellness program?\n",
      "96 Does your employer provide resources to learn more about mental health issues and how to seek help?\n",
      "97 How easy is it for you to take medical leave for a mental health condition?\n",
      "98 Do you think that discussing a mental health issue with your employer would have negative consequences?\n",
      "99 Would you be willing to discuss a mental health issue with your coworkers?\n",
      "100 Would you be willing to discuss a mental health issue with your direct supervisor(s)?\n",
      "101 Would you bring up a physical health issue with a potential employer in an interview?\n",
      "102 Have you heard of or observed negative consequences for coworkers with mental health conditions in your workplace?\n",
      "103 Any additional notes or comments\n",
      "104 Do you think that discussing a mental health disorder with your employer would have negative consequences?\n",
      "105 Have you heard of or observed negative consequences for co-workers who have been open about mental health issues in your workplace?\n",
      "106 If you have revealed a mental health issue to a client or business contact, do you believe this has impacted you negatively?\n",
      "107 If you have revealed a mental health issue to a coworker or employee, do you believe this has impacted you negatively?\n",
      "108 Do you think that discussing a mental health disorder with previous employers would have negative consequences?\n",
      "109 Do you think that discussing a physical health issue with previous employers would have negative consequences?\n",
      "110 Would you have been willing to discuss a mental health issue with your previous co-workers?\n",
      "111 Did you feel that your previous employers took mental health as seriously as physical health?\n",
      "112 Did you hear of or observe negative consequences for co-workers with mental health issues in your previous workplaces?\n",
      "113 Do you feel that being identified as a person with a mental health issue would hurt your career?\n",
      "114 Do you think that team members/co-workers would view you more negatively if they knew you suffered from a mental health issue?\n",
      "115 If yes, what condition(s) have you been diagnosed with?\n",
      "116 If maybe, what condition(s) do you believe you have?\n",
      "117 Which of the following best describes your work position?\n",
      "118 Do you work remotely?\n"
     ]
    }
   ],
   "source": [
    "for index, row in q.iterrows():\n",
    "    print(index, row['questiontext'])"
   ]
  },
  {
   "cell_type": "markdown",
   "id": "7d5a3d13",
   "metadata": {},
   "source": [
    "### Overview Visualization of this database:"
   ]
  },
  {
   "cell_type": "code",
   "execution_count": null,
   "id": "edbd1177",
   "metadata": {},
   "outputs": [],
   "source": []
  }
 ],
 "metadata": {
  "kernelspec": {
   "display_name": "Python 3 (ipykernel)",
   "language": "python",
   "name": "python3"
  },
  "language_info": {
   "codemirror_mode": {
    "name": "ipython",
    "version": 3
   },
   "file_extension": ".py",
   "mimetype": "text/x-python",
   "name": "python",
   "nbconvert_exporter": "python",
   "pygments_lexer": "ipython3",
   "version": "3.9.12"
  }
 },
 "nbformat": 4,
 "nbformat_minor": 5
}
